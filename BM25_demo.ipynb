{
 "cells": [
  {
   "cell_type": "markdown",
   "metadata": {},
   "source": [
    "# Computing BM25 with PySpark\n",
    "BM25 is a bag-of-words (BoW)-based matching algorithm. To compute it given a query (a set of words) and a document, we need to count the instances of each word in the query in the document, count the IDF of each word, measure the document length, and we need the average document length for the entire matching corpus. Thankfully, Spark's standard `ml` library does the tough ones (tf and idf) natively, so `search-tools` just impliments BM25 on top of these features.<br>\n",
    "## Usage\n",
    "The `BM25Model` object is a PySpark transformer. It works much like other feature extractors. There is a `.fit()` method that must be called before computing BM25. The `.transform()` function computes the matching scores and returns them,"
   ]
  },
  {
   "cell_type": "code",
   "execution_count": 1,
   "metadata": {},
   "outputs": [],
   "source": [
    "from search_tools.matching import BM25Model\n",
    "import pyspark.sql.types as T\n",
    "import pyspark.sql.functions as F\n",
    "\n",
    "def init_spark():\n",
    "    \"\"\"Get and return a spark context\"\"\"\n",
    "    from pyspark import SparkContext\n",
    "    from pyspark.sql import SparkSession\n",
    "    APP_NAME = \"search-tools example\"\n",
    "    SPARK_URL = \"local[*]\"\n",
    "    spark = SparkSession.builder.appName(APP_NAME).master(SPARK_URL).getOrCreate()\n",
    "    return spark\n",
    "\n",
    "#uncomment if you need a spark context:\n",
    "#spark = init_spark()"
   ]
  },
  {
   "cell_type": "markdown",
   "metadata": {},
   "source": [
    "# Fitting\n",
    "The BM25 \"model\" must be fit on the matching corpus. This is the collection of all documents to match. We'll demo with some made-up data.\n",
    "## Note on Duplicates\n",
    "You should try to avoid having duplicate documents in your training corpus. BM25 (like tfidf) depends on statistics taken accross all documents, so duplicates can skew these statistics."
   ]
  },
  {
   "cell_type": "code",
   "execution_count": 2,
   "metadata": {},
   "outputs": [
    {
     "name": "stdout",
     "output_type": "stream",
     "text": [
      "+--------------------+\n",
      "|            document|\n",
      "+--------------------+\n",
      "|this is a product...|\n",
      "|this is a product...|\n",
      "|this is a product...|\n",
      "|this is a piece o...|\n",
      "+--------------------+\n",
      "\n"
     ]
    }
   ],
   "source": [
    "#demo dataset\n",
    "corpus = [\n",
    "  'this is a product description for a shoe. It is a running shoe with laces and other shoe things.',\n",
    "  'this is a product description for a shirt. It is an athletic shirt with performance technology optimized for removing moisture from the skin.',\n",
    "  'this is a product description for a water bottle. This product specializes in hydrating your body by putting water inside of it.',\n",
    "  'this is a piece of content. It contains an article describing good running techniques and how to choose the right shoe for you. It is a long document full of words, many many words!'\n",
    "]\n",
    "\n",
    "df = spark.createDataFrame(corpus,schema=T.StringType()).withColumnRenamed('value', 'document')\n",
    "\n",
    "df.show()"
   ]
  },
  {
   "cell_type": "code",
   "execution_count": 5,
   "metadata": {},
   "outputs": [],
   "source": [
    "#create a BM25 model instance\n",
    "bm25 = BM25Model()\n",
    "\n",
    "#specify the column that contains the documents on .fit call\n",
    "bm25 = bm25.fit(df, train_col='document')"
   ]
  },
  {
   "cell_type": "markdown",
   "metadata": {},
   "source": [
    "# Computing BM25 Score\n",
    "The query that we want to compute the BM25 score against needs to be in another column."
   ]
  },
  {
   "cell_type": "code",
   "execution_count": 6,
   "metadata": {},
   "outputs": [
    {
     "name": "stdout",
     "output_type": "stream",
     "text": [
      "+--------------------+------------+----------+\n",
      "|            document|       query|      bm25|\n",
      "+--------------------+------------+----------+\n",
      "|this is a product...|running shoe|  1.312203|\n",
      "|this is a product...|running shoe|       0.0|\n",
      "|this is a product...|running shoe|       0.0|\n",
      "|this is a piece o...|running shoe|0.88177747|\n",
      "+--------------------+------------+----------+\n",
      "\n"
     ]
    }
   ],
   "source": [
    "#Add a column that contains query. In general, this column may not always contain the same value in every row.\n",
    "df = df.withColumn('query', F.lit('running shoe'))\n",
    "\n",
    "#call transform to compute BM25 score for query.\n",
    "result = bm25.transform(df, score_col='query')\n",
    "result.show()"
   ]
  },
  {
   "cell_type": "markdown",
   "metadata": {},
   "source": [
    "# Computing TF, NTF, and TFIDF Scores\n",
    "In the process of computing BM25, we get a number of useful scores \"for free\"; that is, it takes no additional computation to get these scores. If you want them in addition to bm25, it's more efficient to get them in the same call to the `BM25Model` object.<br><br>\n",
    "To get these scores, simply name the output columns when calling `.transform()` (or, to *not* get them, set these keyword arguments to `None` which is default for all but bm25):"
   ]
  },
  {
   "cell_type": "code",
   "execution_count": 7,
   "metadata": {},
   "outputs": [
    {
     "name": "stdout",
     "output_type": "stream",
     "text": [
      "+--------------------+------------+----------+---+----------+-----------+\n",
      "|            document|       query|      bm25| tf|       ntf|      tfidf|\n",
      "+--------------------+------------+----------+---+----------+-----------+\n",
      "|this is a product...|running shoe|  1.312203|3.0|0.15789473| 0.08065668|\n",
      "|this is a product...|running shoe|       0.0|0.0|       0.0|        0.0|\n",
      "|this is a product...|running shoe|       0.0|0.0|       0.0|        0.0|\n",
      "|this is a piece o...|running shoe|0.88177747|2.0|0.05882353|0.030048566|\n",
      "+--------------------+------------+----------+---+----------+-----------+\n",
      "\n"
     ]
    }
   ],
   "source": [
    "result = bm25.transform(df, score_col='query', bm25_output_name='bm25', tf_output_name='tf', ntf_output_name='ntf', tfidf_output_name='tfidf')\n",
    "result.show()"
   ]
  }
 ],
 "metadata": {
  "kernelspec": {
   "display_name": "Python 3",
   "language": "python",
   "name": "python3"
  },
  "language_info": {
   "codemirror_mode": {
    "name": "ipython",
    "version": 3
   },
   "file_extension": ".py",
   "mimetype": "text/x-python",
   "name": "python",
   "nbconvert_exporter": "python",
   "pygments_lexer": "ipython3",
   "version": "3.7.2"
  }
 },
 "nbformat": 4,
 "nbformat_minor": 2
}
