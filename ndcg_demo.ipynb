{
 "cells": [
  {
   "cell_type": "markdown",
   "metadata": {},
   "source": [
    "# Discounted Cumulative Gain\n",
    "Discounted Cumulative Gain (DCG) is a very common metric to evaluate a ranking of results *against an optimally-ranked \"ground truth\"*. In the pointwise approach to LTR, we're evaluating search results based on query-result pairs; measuring true relevance based on user interactions and training a model to estimate this number. DCG is used to evaluate all models \"apples to apples\", so we will want to compute DCG anyways. The task involved several steps:\n",
    "\n",
    " - Order results based on true relevance\n",
    " - Order results based on estimated relevance\n",
    " - Compute DCG by comparing the two ordered lists\n",
    " \n",
    "search-tools can compute dcg, ndcg, and has a pyspark udf to do it on your spark nodes."
   ]
  },
  {
   "cell_type": "code",
   "execution_count": 1,
   "metadata": {},
   "outputs": [],
   "source": [
    "from search_tools.metrics import ndcg_udf, get_rankings\n",
    "from search_tools.matching import BM25Model\n",
    "\n",
    "import pyspark.sql.functions as F\n",
    "\n",
    "import pandas as pd\n",
    "import numpy as np\n",
    "\n",
    "def init_spark():\n",
    "    \"\"\"Get and return a spark context\"\"\"\n",
    "    from pyspark import SparkContext\n",
    "    from pyspark.sql import SparkSession\n",
    "    APP_NAME = \"search-tools example\"\n",
    "    SPARK_URL = \"local[*]\"\n",
    "    spark = SparkSession.builder.appName(APP_NAME).master(SPARK_URL).getOrCreate()\n",
    "    return spark\n",
    "\n",
    "#uncomment if you need a spark context:\n",
    "#spark = init_spark()"
   ]
  },
  {
   "cell_type": "markdown",
   "metadata": {},
   "source": [
    "# Demo Dataset\n",
    "The following cell generates a dummy dataset that looks something like what we'd expect after training a pointwise ranking model:"
   ]
  },
  {
   "cell_type": "code",
   "execution_count": 2,
   "metadata": {},
   "outputs": [
    {
     "name": "stdout",
     "output_type": "stream",
     "text": [
      "+----------+------+--------------------+-------------------+\n",
      "|     query|   pid|           relevance|estimated_relevance|\n",
      "+----------+------+--------------------+-------------------+\n",
      "|air jordan|101852| 0.02988521769497876|  0.646588282582704|\n",
      "|air jordan|104194| 0.21904121471662752| 0.7688214879952707|\n",
      "|air jordan|102137|  0.8692904685849372| 0.4027586582978472|\n",
      "|air jordan|103637|  0.6323111613109539| 0.3792361114463353|\n",
      "|air jordan|101289|  0.5531064148825765|  0.758509930143625|\n",
      "|air jordan|103243|0.051998382242541275| 0.8332075966120123|\n",
      "|air jordan|101550|  0.5720213975580669|  0.724106628585816|\n",
      "|air jordan|103979|  0.2090640790778303|  0.878918039288767|\n",
      "|air jordan|102993|  0.0804350950745314| 0.1545982454209447|\n",
      "|air jordan|103727|  0.6751723079142157| 0.5295416032709277|\n",
      "|air jordan|102812| 0.13007534278648925| 0.7455838410223465|\n",
      "|air jordan|103989| 0.21252806993390105|0.42609804353453296|\n",
      "|air jordan|100041|  0.6716818913031557| 0.4459337120588347|\n",
      "|air jordan|100238|  0.2060406966981163| 0.9726725473014027|\n",
      "|air jordan|102882|  0.8422492662074285| 0.7696222963963507|\n",
      "|air jordan|100686| 0.30306533603438157|0.20117169159977688|\n",
      "|air jordan|104984|  0.9093746101623276|0.09869782650474523|\n",
      "|air jordan|102184|  0.4892761283144549| 0.9877224452501346|\n",
      "|air jordan|101204| 0.10080273392866346| 0.3432479865677195|\n",
      "|air jordan|102620| 0.21021045588574838| 0.9275894076358753|\n",
      "+----------+------+--------------------+-------------------+\n",
      "only showing top 20 rows\n",
      "\n"
     ]
    }
   ],
   "source": [
    "#here's a list of 5000 example products\n",
    "products = np.arange(start=100000, stop=105000)\n",
    "\n",
    "#This is a list of the best (optimally) ordered 500 products.\n",
    "best_order = np.random.choice(products, size=(500,), replace=False)\n",
    "\n",
    "#This is a list of \"returned\" results\n",
    "results_order = np.random.choice(best_order, size=(500,), replace=False)\n",
    "\n",
    "cols = ['query', 'pid', 'relevance', 'estimated_relevance']\n",
    "queries = ['air jordan', 'air max', 'running', 'red sox']\n",
    "dfs = []\n",
    "size = (500,)\n",
    "\n",
    "for query in queries:\n",
    "    df = pd.DataFrame(columns = cols)\n",
    "    df['pid'] = np.random.choice(products, size=size, replace=False)\n",
    "    df['relevance'] = np.random.random(size=size)\n",
    "    df['estimated_relevance'] = np.random.random(size=size)\n",
    "    df['query'] = query\n",
    "    df['query'] = df['query'].astype(str)\n",
    "    dfs.append(df)\n",
    "  \n",
    "pd_df = pd.concat(dfs, axis=0)\n",
    "\n",
    "df = spark.createDataFrame(pd_df)\n",
    "df.show()"
   ]
  },
  {
   "cell_type": "markdown",
   "metadata": {},
   "source": [
    "# Collapsing Rows, Ordering by Relevance\n",
    "There's a series of oper"
   ]
  },
  {
   "cell_type": "code",
   "execution_count": 3,
   "metadata": {},
   "outputs": [
    {
     "name": "stdout",
     "output_type": "stream",
     "text": [
      "+----------+--------------------+--------------------+\n",
      "|     query|          best_order|     estimated_order|\n",
      "+----------+--------------------+--------------------+\n",
      "|   air max|[101085, 103837, ...|[104701, 101347, ...|\n",
      "|   running|[100598, 104644, ...|[100154, 103999, ...|\n",
      "|air jordan|[103901, 103135, ...|[104417, 104197, ...|\n",
      "|   red sox|[102039, 101116, ...|[100296, 100028, ...|\n",
      "+----------+--------------------+--------------------+\n",
      "\n"
     ]
    }
   ],
   "source": [
    "results = get_rankings(df, gt_col='relevance', est_col='estimated_relevance')\n",
    "\n",
    "results.show()"
   ]
  },
  {
   "cell_type": "code",
   "execution_count": 4,
   "metadata": {},
   "outputs": [
    {
     "name": "stdout",
     "output_type": "stream",
     "text": [
      "+----------+----------+\n",
      "|     query|      ndcg|\n",
      "+----------+----------+\n",
      "|   air max|0.16247763|\n",
      "|   running|0.16091068|\n",
      "|air jordan|0.15299326|\n",
      "|   red sox| 0.2046853|\n",
      "+----------+----------+\n",
      "\n"
     ]
    }
   ],
   "source": [
    "results.withColumn('ndcg', ndcg_udf(F.col('best_order'), F.col('estimated_order'))).select('query', 'ndcg').show()"
   ]
  }
 ],
 "metadata": {
  "kernelspec": {
   "display_name": "Python 3",
   "language": "python",
   "name": "python3"
  },
  "language_info": {
   "codemirror_mode": {
    "name": "ipython",
    "version": 3
   },
   "file_extension": ".py",
   "mimetype": "text/x-python",
   "name": "python",
   "nbconvert_exporter": "python",
   "pygments_lexer": "ipython3",
   "version": "3.7.2"
  }
 },
 "nbformat": 4,
 "nbformat_minor": 2
}
