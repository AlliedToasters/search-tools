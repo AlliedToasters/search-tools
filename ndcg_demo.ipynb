{
 "cells": [
  {
   "cell_type": "markdown",
   "metadata": {},
   "source": [
    "# Discounted Cumulative Gain\n",
    "Discounted Cumulative Gain (DCG) is a very common metric to evaluate a ranking of results *against an optimally-ranked \"ground truth\"*. In the pointwise approach to LTR, we're evaluating search results based on query-result pairs; measuring true relevance based on user interactions and training a model to estimate this number. DCG is used to evaluate all models \"apples to apples\", so we will want to compute DCG anyways. The task involved several steps:\n",
    "\n",
    " - Order results based on true relevance\n",
    " - Order results based on estimated relevance\n",
    " - Compute DCG by comparing the two ordered lists\n",
    " \n",
    "search-tools can compute dcg, ndcg, and has a pyspark udf to do it on your spark nodes."
   ]
  },
  {
   "cell_type": "code",
   "execution_count": 20,
   "metadata": {},
   "outputs": [],
   "source": [
    "from search_tools.metrics import ndcg_udf, get_rankings\n",
    "from search_tools.matching import BM25Model\n",
    "\n",
    "import pyspark.sql.functions as F\n",
    "\n",
    "import pandas as pd\n",
    "import numpy as np\n",
    "\n",
    "def init_spark():\n",
    "    \"\"\"Get and return a spark context\"\"\"\n",
    "    from pyspark import SparkContext\n",
    "    from pyspark.sql import SparkSession\n",
    "    APP_NAME = \"search-tools example\"\n",
    "    SPARK_URL = \"local[*]\"\n",
    "    spark = SparkSession.builder.appName(APP_NAME).master(SPARK_URL).getOrCreate()\n",
    "    return spark\n",
    "\n",
    "#uncomment if you need a spark context:\n",
    "#spark = init_spark()"
   ]
  },
  {
   "cell_type": "markdown",
   "metadata": {},
   "source": [
    "# Demo Dataset\n",
    "The following cell generates a dummy dataset that looks something like what we'd expect after training a pointwise ranking model:"
   ]
  },
  {
   "cell_type": "code",
   "execution_count": 15,
   "metadata": {},
   "outputs": [
    {
     "name": "stdout",
     "output_type": "stream",
     "text": [
      "+----------+------+--------------------+-------------------+\n",
      "|     query|   pid|           relevance|estimated_relevance|\n",
      "+----------+------+--------------------+-------------------+\n",
      "|air jordan|100612|  0.4906300598842973| 0.9921630747944146|\n",
      "|air jordan|103687|  0.5987632520944304| 0.7177760681575576|\n",
      "|air jordan|101109|  0.3592458258848352| 0.6983621850397713|\n",
      "|air jordan|101208|0.006181523165330938|0.42805993889109606|\n",
      "|air jordan|102494|  0.6580431073136314| 0.3789907339381291|\n",
      "|air jordan|103939|  0.1357291046814525| 0.4356277303898791|\n",
      "|air jordan|104108| 0.19923964105887537|0.26843523071135456|\n",
      "|air jordan|101645|  0.8556352363674494|0.16655069933442757|\n",
      "|air jordan|104580|  0.8591015262573666|0.33613687913659807|\n",
      "|air jordan|103589|  0.2656900421264532|0.13882340711924857|\n",
      "|air jordan|101887|  0.6879241505221808| 0.2929660306158248|\n",
      "|air jordan|103339|     0.1448960115408| 0.6788507049116451|\n",
      "|air jordan|102266| 0.10421591328080293| 0.8383747339044633|\n",
      "|air jordan|103889|  0.5512399446303975|0.30715047432116793|\n",
      "|air jordan|103710|  0.3649817353951764|0.16575453547479269|\n",
      "|air jordan|104523|  0.7759430447727815| 0.1923059290841742|\n",
      "|air jordan|103186|  0.7151845076219916| 0.5382012168165935|\n",
      "|air jordan|103853| 0.09959627127777848| 0.5135832821238554|\n",
      "|air jordan|102289|  0.6939118893240304| 0.9816787104042585|\n",
      "|air jordan|102888|  0.4179791216721509| 0.5777145585467391|\n",
      "+----------+------+--------------------+-------------------+\n",
      "only showing top 20 rows\n",
      "\n"
     ]
    }
   ],
   "source": [
    "#here's a list of 5000 example products\n",
    "products = np.arange(start=100000, stop=105000)\n",
    "\n",
    "#This is a list of the best (optimally) ordered 500 products.\n",
    "best_order = np.random.choice(products, size=(500,), replace=False)\n",
    "\n",
    "#This is a list of \"returned\" results\n",
    "results_order = np.random.choice(best_order, size=(500,), replace=False)\n",
    "\n",
    "cols = ['query', 'pid', 'relevance', 'estimated_relevance']\n",
    "queries = ['air jordan', 'air max', 'running', 'red sox']\n",
    "dfs = []\n",
    "size = (500,)\n",
    "\n",
    "for query in queries:\n",
    "    df = pd.DataFrame(columns = cols)\n",
    "    df['pid'] = np.random.choice(products, size=size, replace=False)\n",
    "    df['relevance'] = np.random.random(size=size)\n",
    "    df['estimated_relevance'] = np.random.random(size=size)\n",
    "    df['query'] = query\n",
    "    df['query'] = df['query'].astype(str)\n",
    "    dfs.append(df)\n",
    "  \n",
    "pd_df = pd.concat(dfs, axis=0)\n",
    "\n",
    "df = spark.createDataFrame(pd_df)\n",
    "df.show()"
   ]
  },
  {
   "cell_type": "markdown",
   "metadata": {},
   "source": [
    "# Collapsing Rows, Ordering by Relevance\n",
    "There's a series of oper"
   ]
  },
  {
   "cell_type": "code",
   "execution_count": 18,
   "metadata": {},
   "outputs": [
    {
     "name": "stdout",
     "output_type": "stream",
     "text": [
      "+----------+--------------------+--------------------+\n",
      "|     query|          best_order|     estimated_order|\n",
      "+----------+--------------------+--------------------+\n",
      "|   air max|[104368, 100723, ...|[101132, 100077, ...|\n",
      "|   running|[100075, 100647, ...|[100162, 100871, ...|\n",
      "|air jordan|[104943, 103241, ...|[104552, 103585, ...|\n",
      "|   red sox|[104031, 104247, ...|[101352, 100159, ...|\n",
      "+----------+--------------------+--------------------+\n",
      "\n"
     ]
    }
   ],
   "source": [
    "results = get_rankings(df, gt_col='relevance', est_col='estimated_relevance')\n",
    "\n",
    "results.show()"
   ]
  },
  {
   "cell_type": "code",
   "execution_count": 21,
   "metadata": {},
   "outputs": [
    {
     "name": "stdout",
     "output_type": "stream",
     "text": [
      "+----------+----------+\n",
      "|     query|      ndcg|\n",
      "+----------+----------+\n",
      "|   air max|0.15516137|\n",
      "|   running| 0.1487128|\n",
      "|air jordan| 0.1644091|\n",
      "|   red sox| 0.1748767|\n",
      "+----------+----------+\n",
      "\n"
     ]
    }
   ],
   "source": [
    "results.withColumn('ndcg', ndcg_udf(F.col('best_order'), F.col('estimated_order'))).select('query', 'ndcg').show()"
   ]
  }
 ],
 "metadata": {
  "kernelspec": {
   "display_name": "Python 3",
   "language": "python",
   "name": "python3"
  },
  "language_info": {
   "codemirror_mode": {
    "name": "ipython",
    "version": 3
   },
   "file_extension": ".py",
   "mimetype": "text/x-python",
   "name": "python",
   "nbconvert_exporter": "python",
   "pygments_lexer": "ipython3",
   "version": "3.7.2"
  }
 },
 "nbformat": 4,
 "nbformat_minor": 2
}
